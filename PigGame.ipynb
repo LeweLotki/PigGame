{
 "cells": [
  {
   "cell_type": "code",
   "execution_count": null,
   "id": "65000981-2db5-4efd-9889-c42fe2a8b8f6",
   "metadata": {},
   "outputs": [],
   "source": [
    "import torch\n",
    "import torch.optim as optim\n",
    "from src.env.pig_game import PigGame\n",
    "from src.env.dummy_player import DummyPlayer \n",
    "from src.model.actor_critic import Actor, Critic\n",
    "from src.loop.training_loop import training_loop"
   ]
  },
  {
   "cell_type": "code",
   "execution_count": null,
   "id": "636d5aaa-3974-410f-b092-733cce7f731f",
   "metadata": {},
   "outputs": [],
   "source": [
    "torch.manual_seed(1)"
   ]
  },
  {
   "cell_type": "code",
   "execution_count": null,
   "id": "4963f0e6-6fb5-4c21-8908-afd9cb7f83a1",
   "metadata": {},
   "outputs": [],
   "source": [
    "env = PigGame()\n",
    "\n",
    "actor = Actor()  \n",
    "critic = Critic()\n",
    "\n",
    "dummy = DummyPlayer()"
   ]
  },
  {
   "cell_type": "code",
   "execution_count": null,
   "id": "145c0564-7dce-4467-8128-0314ef3cd5a6",
   "metadata": {},
   "outputs": [],
   "source": [
    "actor_optimizer = optim.Adam(actor.parameters(), lr=1e-3)\n",
    "critic_optimizer = optim.Adam(critic.parameters(), lr=1e-3)\n",
    "\n",
    "num_episodes = 1e3\n",
    "gamma = 0.1"
   ]
  },
  {
   "cell_type": "code",
   "execution_count": null,
   "id": "c69a7899-0fc4-426b-8666-8591295544e7",
   "metadata": {},
   "outputs": [],
   "source": [
    "rewards, game_scores, actor_loss, critic_loss = training_loop(\n",
    "    env=env, \n",
    "    actor=actor, \n",
    "    critic=critic, \n",
    "    dummy=dummy, \n",
    "    actor_optimizer=actor_optimizer, \n",
    "    critic_optimizer=critic_optimizer, \n",
    "    gamma=gamma, \n",
    "    num_episodes=int(num_episodes), \n",
    "    debug=False\n",
    ")"
   ]
  },
  {
   "cell_type": "code",
   "execution_count": null,
   "id": "2e6beb64-83cb-493b-8758-a4354861d9b3",
   "metadata": {},
   "outputs": [],
   "source": [
    "import numpy as np\n",
    "\n",
    "def moving_average(values, window):\n",
    "    return np.convolve(values, np.ones(window) / window, mode='valid')"
   ]
  },
  {
   "cell_type": "code",
   "execution_count": null,
   "id": "e5a8da03-97e8-4b34-a4d3-b088e7f24fc6",
   "metadata": {},
   "outputs": [],
   "source": [
    "import matplotlib.pyplot as plt\n",
    "\n",
    "window_size = 20\n",
    "moving_avg_rewards = moving_average(rewards, window_size)\n",
    "\n",
    "plt.plot(range(len(rewards)), rewards, label='Total Reward')\n",
    "plt.plot(range(window_size - 1, len(rewards)), moving_avg_rewards, label=f'Moving Average (window={window_size})', color='orange')\n",
    "\n",
    "plt.xlabel('Episode')\n",
    "plt.ylabel('Total Reward')\n",
    "plt.ylim([-100,50])\n",
    "# plt.xlim([0,200])\n",
    "plt.title('Episode vs Total Reward & Moving Average')\n",
    "plt.legend()\n",
    "\n",
    "plt.show()\n"
   ]
  },
  {
   "cell_type": "code",
   "execution_count": null,
   "id": "69d86bdb-ed0d-4659-93da-bd272ae6d93a",
   "metadata": {},
   "outputs": [],
   "source": [
    "plt.plot(actor_loss)"
   ]
  },
  {
   "cell_type": "code",
   "execution_count": null,
   "id": "1452ce17-1ccb-420c-82d7-4cd6f9301a7c",
   "metadata": {},
   "outputs": [],
   "source": [
    "plt.plot(critic_loss)"
   ]
  },
  {
   "cell_type": "code",
   "execution_count": null,
   "id": "513cdeeb-72e6-46d0-9cde-53c90fe2c971",
   "metadata": {},
   "outputs": [],
   "source": [
    "def extract_games_and_final_scores(game_scores):\n",
    "    all_games = []\n",
    "    final_scores = []\n",
    "    current_game = []\n",
    "    \n",
    "    for round_scores in game_scores:\n",
    "        current_game.append(round_scores)\n",
    "        \n",
    "        if round_scores[0][0] >= 100 or round_scores[0][1] >= 100:\n",
    "            all_games.append(current_game)\n",
    "            \n",
    "            final_scores.append((round_scores[0][0], round_scores[0][1]))\n",
    "            \n",
    "            current_game = []\n",
    "    \n",
    "    return all_games, final_scores\n",
    "\n",
    "all_games, final_scores = extract_games_and_final_scores(game_scores)\n",
    "\n",
    "def plot_game_scores_and_wins(final_scores, num_episodes):\n",
    "    dummy_scores = [score[0] for score in final_scores]  \n",
    "    nn_scores = [score[1] for score in final_scores]     \n",
    "\n",
    "    dummy_wins = 0\n",
    "    nn_wins = 0\n",
    "    nn_win_percentage = []\n",
    "\n",
    "    for i in range(len(final_scores)):\n",
    "        if nn_scores[i] >= 100:  \n",
    "            nn_wins += 1\n",
    "        elif dummy_scores[i] >= 100:\n",
    "            dummy_wins += 1\n",
    "        \n",
    "        nn_win_percentage.append((nn_wins / (i + 1)) * 100)\n",
    "\n",
    "    print(f\"Dummy won {dummy_wins} times.\")\n",
    "    print(f\"NN (AI) won {nn_wins} times.\")\n",
    "    print(f\"AI won {nn_wins / len(final_scores) * 100:.2f}% of the time.\")\n",
    "\n",
    "    plt.figure(figsize=(12, 6))\n",
    "    \n",
    "    plt.subplot(1, 2, 1)\n",
    "    plt.plot(range(len(final_scores)), dummy_scores, label=\"Dummy Player Scores\", color='red', linestyle='--')\n",
    "    plt.plot(range(len(final_scores)), nn_scores, label=\"NN Player Scores\", color='blue')\n",
    "    plt.xlabel('Game')\n",
    "    plt.ylabel('Permanent Stack (Final Scores)')\n",
    "    plt.title('Final Game Scores Over Games')\n",
    "    plt.legend()\n",
    "\n",
    "    plt.subplot(1, 2, 2)\n",
    "    plt.plot(range(len(final_scores)), nn_win_percentage, label='AI Win Percentage', color='green')\n",
    "    plt.xlabel('Game')\n",
    "    plt.ylabel('AI Win Percentage (%)')\n",
    "    plt.title('AI Win Percentage Over Games')\n",
    "    plt.legend()\n",
    "\n",
    "    plt.tight_layout()\n",
    "    plt.show()\n",
    "\n",
    "def filter_consecutive_duplicates(final_scores):\n",
    "\n",
    "    if not final_scores:\n",
    "        return []\n",
    "    \n",
    "    filtered_scores = [final_scores[0]] \n",
    "\n",
    "    for i in range(1, len(final_scores)):\n",
    "\n",
    "        if final_scores[i] != final_scores[i - 1]:\n",
    "            filtered_scores.append(final_scores[i])\n",
    "\n",
    "    return filtered_scores\n",
    "\n",
    "final_scores = filter_consecutive_duplicates(final_scores)\n",
    "plot_game_scores_and_wins(final_scores, len(final_scores))\n"
   ]
  },
  {
   "cell_type": "code",
   "execution_count": null,
   "id": "a6f96893-5502-42cb-83d7-88324986dc83",
   "metadata": {},
   "outputs": [],
   "source": [
    "import matplotlib.pyplot as plt\n",
    "\n",
    "def plot_specific_game(all_games, game_index):\n",
    "\n",
    "    if game_index >= len(all_games):\n",
    "        print(f\"Invalid game index. There are only {len(all_games)} games.\")\n",
    "        return\n",
    "    \n",
    "    current_game = all_games[game_index]\n",
    "\n",
    "    dummy_scores = [round_scores[0][0] for round_scores in current_game]\n",
    "    nn_scores = [round_scores[0][1] for round_scores in current_game] \n",
    "\n",
    "    plt.figure(figsize=(10, 6))\n",
    "    plt.plot(dummy_scores, label='Dummy Player Scores', color='red', linestyle='--')\n",
    "    plt.plot(nn_scores, label='NN Player Scores', color='blue')\n",
    "    plt.xlabel('Round')\n",
    "    plt.ylabel('Scores')\n",
    "    plt.title(f'Game {game_index + 1}: Score Progression')\n",
    "    plt.legend()\n",
    "\n",
    "    plt.show()\n"
   ]
  },
  {
   "cell_type": "code",
   "execution_count": null,
   "id": "3ebf04ab-8945-4e00-aaa0-55b29fd9bafd",
   "metadata": {},
   "outputs": [],
   "source": [
    "def filter_full_games(all_games):\n",
    "    filtered_games = [game for game in all_games if len(game) > 1]\n",
    "    return filtered_games\n",
    "\n",
    "all_games = filter_full_games(all_games)"
   ]
  },
  {
   "cell_type": "code",
   "execution_count": null,
   "id": "ecf2a1ce-08b0-4dd1-ab97-22b971a944d1",
   "metadata": {},
   "outputs": [],
   "source": [
    "plot_specific_game(all_games, 999)"
   ]
  },
  {
   "cell_type": "code",
   "execution_count": null,
   "id": "c4dda145-5cbb-44b3-b4d5-5c60c0fe4366",
   "metadata": {},
   "outputs": [],
   "source": [
    "import matplotlib.pyplot as plt\n",
    "\n",
    "def plot_multiple_games(all_games, start_game_index, end_game_index):\n",
    "\n",
    "    if start_game_index < 0 or end_game_index >= len(all_games):\n",
    "        print(f\"Invalid game range. There are only {len(all_games)} games.\")\n",
    "        return\n",
    "        \n",
    "    plt.figure(figsize=(12, 8))\n",
    "    \n",
    "    for game_index in range(start_game_index, end_game_index + 1):\n",
    "        current_game = all_games[game_index]\n",
    "        \n",
    "        dummy_scores = [round_scores[0][0] for round_scores in current_game]\n",
    "        nn_scores = [round_scores[0][1] for round_scores in current_game]\n",
    "        \n",
    "        plt.plot(dummy_scores, linestyle='--', color='red', alpha=0.7)\n",
    "        plt.plot(nn_scores, linestyle='-', color='blue', alpha=0.7)\n",
    "\n",
    "    plt.xlabel('Round')\n",
    "    plt.ylabel('Scores')\n",
    "    plt.title(f'Games {start_game_index + 1} to {end_game_index + 1}: Score Progression')\n",
    "    plt.legend()\n",
    "    \n",
    "    plt.show()\n"
   ]
  },
  {
   "cell_type": "code",
   "execution_count": null,
   "id": "73409013-4f38-406d-9822-3df2b965339a",
   "metadata": {},
   "outputs": [],
   "source": [
    "plot_multiple_games(all_games, start_game_index=900, end_game_index=999)"
   ]
  }
 ],
 "metadata": {
  "kernelspec": {
   "display_name": "Python 3 (ipykernel)",
   "language": "python",
   "name": "python3"
  },
  "language_info": {
   "codemirror_mode": {
    "name": "ipython",
    "version": 3
   },
   "file_extension": ".py",
   "mimetype": "text/x-python",
   "name": "python",
   "nbconvert_exporter": "python",
   "pygments_lexer": "ipython3",
   "version": "3.10.12"
  }
 },
 "nbformat": 4,
 "nbformat_minor": 5
}
