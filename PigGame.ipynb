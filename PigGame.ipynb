{
 "cells": [
  {
   "cell_type": "code",
   "execution_count": 1,
   "id": "65000981-2db5-4efd-9889-c42fe2a8b8f6",
   "metadata": {},
   "outputs": [],
   "source": [
    "import torch.optim as optim\n",
    "from src.env.pig_game import PigGame\n",
    "from src.env.dummy_player import DummyPlayer  # Import the Dummy player\n",
    "from src.model.actor_critic import Actor, Critic  # Import Actor and Critic models\n",
    "from src.loop.training_loop import training_loop"
   ]
  },
  {
   "cell_type": "code",
   "execution_count": 2,
   "id": "4963f0e6-6fb5-4c21-8908-afd9cb7f83a1",
   "metadata": {},
   "outputs": [],
   "source": [
    "env = PigGame()\n",
    "\n",
    "# Initialize the actor and critic networks\n",
    "input_dim = 7\n",
    "actor = Actor(input_dim)  # Assuming input_dim is 7\n",
    "critic = Critic(input_dim)  # Assuming input_dim is 7\n",
    "\n",
    "# Initialize the dummy player\n",
    "dummy = DummyPlayer()"
   ]
  },
  {
   "cell_type": "code",
   "execution_count": 11,
   "id": "145c0564-7dce-4467-8128-0314ef3cd5a6",
   "metadata": {},
   "outputs": [],
   "source": [
    "# Optimizers for actor and critic\n",
    "actor_optimizer = optim.Adam(actor.parameters(), lr=1e-3)\n",
    "critic_optimizer = optim.Adam(critic.parameters(), lr=1e-3)\n",
    "\n",
    "# Set hyperparameters\n",
    "num_episodes = 1e3\n",
    "gamma = 0.99"
   ]
  },
  {
   "cell_type": "code",
   "execution_count": null,
   "id": "c69a7899-0fc4-426b-8666-8591295544e7",
   "metadata": {},
   "outputs": [
    {
     "name": "stdout",
     "output_type": "stream",
     "text": [
      "Episode 0 finished, Total Reward (NN only): 1388.0\n",
      "Episode 100 finished, Total Reward (NN only): 1030.0\n"
     ]
    }
   ],
   "source": [
    "# Run the training loop with debug prints\n",
    "rewards = training_loop(\n",
    "    env=env, \n",
    "    actor=actor, \n",
    "    critic=critic, \n",
    "    dummy=dummy, \n",
    "    actor_optimizer=actor_optimizer, \n",
    "    critic_optimizer=critic_optimizer, \n",
    "    gamma=gamma, \n",
    "    num_episodes=int(num_episodes), \n",
    "    debug=False\n",
    ")"
   ]
  },
  {
   "cell_type": "code",
   "execution_count": 5,
   "id": "2e6beb64-83cb-493b-8758-a4354861d9b3",
   "metadata": {},
   "outputs": [],
   "source": [
    "# Function to calculate moving average\n",
    "def moving_average(values, window):\n",
    "    \"\"\"\n",
    "    Computes the moving average of the values with the given window size.\n",
    "    \n",
    "    Parameters:\n",
    "    - values: List or array of rewards\n",
    "    - window: Window size for the moving average\n",
    "    \n",
    "    Returns:\n",
    "    - moving_avg: Array of moving average values\n",
    "    \"\"\"\n",
    "    return np.convolve(values, np.ones(window) / window, mode='valid')"
   ]
  },
  {
   "cell_type": "code",
   "execution_count": null,
   "id": "e5a8da03-97e8-4b34-a4d3-b088e7f24fc6",
   "metadata": {},
   "outputs": [],
   "source": [
    "import matplotlib.pyplot as plt\n",
    "import numpy as np\n",
    "\n",
    "# Calculate the moving average (e.g., over a window of 50 episodes)\n",
    "window_size = 20\n",
    "moving_avg_rewards = moving_average(rewards, window_size)\n",
    "\n",
    "# Plot total rewards\n",
    "plt.plot(range(len(rewards)), rewards, label='Total Reward')\n",
    "\n",
    "# Plot moving average of rewards (adjust for the shorter length due to the moving average)\n",
    "plt.plot(range(window_size - 1, len(rewards)), moving_avg_rewards, label=f'Moving Average (window={window_size})', color='orange')\n",
    "\n",
    "# Add labels and title\n",
    "plt.xlabel('Episode')\n",
    "plt.ylabel('Total Reward')\n",
    "# plt.ylim([-1000,5000])\n",
    "plt.title('Episode vs Total Reward & Moving Average')\n",
    "plt.legend()\n",
    "\n",
    "# Show the plot\n",
    "plt.show()\n"
   ]
  }
 ],
 "metadata": {
  "kernelspec": {
   "display_name": "Python 3 (ipykernel)",
   "language": "python",
   "name": "python3"
  },
  "language_info": {
   "codemirror_mode": {
    "name": "ipython",
    "version": 3
   },
   "file_extension": ".py",
   "mimetype": "text/x-python",
   "name": "python",
   "nbconvert_exporter": "python",
   "pygments_lexer": "ipython3",
   "version": "3.10.12"
  }
 },
 "nbformat": 4,
 "nbformat_minor": 5
}
